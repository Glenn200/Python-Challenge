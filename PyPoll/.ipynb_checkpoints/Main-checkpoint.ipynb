{
 "cells": [
  {
   "cell_type": "code",
   "execution_count": null,
   "metadata": {},
   "outputs": [],
   "source": [
    "import os, csv"
   ]
  },
  {
   "cell_type": "code",
   "execution_count": null,
   "metadata": {},
   "outputs": [],
   "source": [
    "#csvpath = os.path.join('Resources', 'election_data.csv')\n",
    "csvpath = 'election_data.csv'"
   ]
  },
  {
   "cell_type": "code",
   "execution_count": null,
   "metadata": {},
   "outputs": [],
   "source": [
    "#def inc_vote_cnt"
   ]
  },
  {
   "cell_type": "code",
   "execution_count": 40,
   "metadata": {},
   "outputs": [],
   "source": [
    "# Open file\n",
    "# Declare variables\n",
    "tvotes = 0\n",
    "vdata = []\n",
    "clists = []\n",
    "cvotes = []\n",
    "# Load data \n",
    "with open(csvpath) as csvfile:\n",
    "    # Split  data at commas\n",
    "    csvreader = csv.reader(csvfile, delimiter=',')\n",
    "    reader = csv.reader(open(csvpath))\n",
    "    next(csvreader)\n",
    "    for r in csvreader:\n",
    "        # Total Number of votes included in Dataset\n",
    "        tvotes += 1\n",
    "        vdata.append(r)\n",
    "        #for c in r[2]:\n",
    "        if r[2] not in clists: \n",
    "            clists.append(r[2])\n",
    "            index = clists.index(r[2])\n",
    "            if len(cvotes) > 0:\n",
    "                if index not in cvotes:\n",
    "                    cvotes.append(1)\n",
    "                    curcnt = cvotes[index].value\n",
    "                #cvotes.append(1)\n",
    "            else:\n",
    "                cvotes.append(1)\n",
    "                \n",
    "            #print(index)\n",
    "            #cvotes.append = 1\n",
    "            #\n",
    "            #if \n",
    "            #cvote[index] += 1\n",
    "            #print(cvote)\n",
    "            #print(index)\n",
    "            #print(cvote)\n",
    "            #lists([index],[0]) += 1 \n",
    "            #add vote for candidate\n",
    "        #    tvotes =+1\n",
    "        #    print(c)\n",
    "        #    print(r[2])\n",
    "        #elif r[2] != c:\n",
    "        #    clists.append(r[2])        \n",
    "\n",
    "# Declare variables\n",
    "#vdata = {}\n",
    "#tvotes = 0\n",
    "#clist = []  #add cand as a key\n",
    "# Load data in dictionary\n",
    "#for row in reader:\n",
    "    #for column, value in row.items():\n",
    "    #    vdata.setdefault(column, []).append(value)\n",
    "    #Get total Votes\n",
    "    \n",
    "    # Getr Unique List of Candidates\n",
    "        #for cr in clist:\n",
    "        #    if vdata(\"Candidate\").value() == cr\n",
    "            # add vote\n",
    "        #    else\n",
    "            #add to clist and add vote\n",
    "        #    clist.append(cr)\n",
    "            \n",
    "    #Get vote count for each candidate\n",
    "    \n",
    "    #Get percentage of votes reviced vs  total votes\n",
    "    \n",
    "    #Display election results to terminal\n",
    "    #print('Election Results' + '\\n' + '--------------------------------')\n",
    "    #print('Total Votes: ' + str(tvotes))\n",
    "    #print('--------------------------------')\n",
    " "
   ]
  },
  {
   "cell_type": "code",
   "execution_count": 41,
   "metadata": {},
   "outputs": [
    {
     "name": "stdout",
     "output_type": "stream",
     "text": [
      "1\n"
     ]
    }
   ],
   "source": [
    "print(cvotes[0])"
   ]
  },
  {
   "cell_type": "code",
   "execution_count": 43,
   "metadata": {},
   "outputs": [
    {
     "name": "stdout",
     "output_type": "stream",
     "text": [
      "1\n"
     ]
    }
   ],
   "source": [
    "print(len(cvotes))"
   ]
  },
  {
   "cell_type": "code",
   "execution_count": 20,
   "metadata": {},
   "outputs": [
    {
     "name": "stdout",
     "output_type": "stream",
     "text": [
      "1\n"
     ]
    }
   ],
   "source": [
    "print(clists.index(r[2]))"
   ]
  },
  {
   "cell_type": "code",
   "execution_count": 46,
   "metadata": {},
   "outputs": [
    {
     "name": "stdout",
     "output_type": "stream",
     "text": [
      "1\n"
     ]
    },
    {
     "ename": "NameError",
     "evalue": "name 'khan' is not defined",
     "output_type": "error",
     "traceback": [
      "\u001b[1;31m---------------------------------------------------------------------------\u001b[0m",
      "\u001b[1;31mNameError\u001b[0m                                 Traceback (most recent call last)",
      "\u001b[1;32m<ipython-input-46-01d3ee126c35>\u001b[0m in \u001b[0;36m<module>\u001b[1;34m\u001b[0m\n\u001b[0;32m      1\u001b[0m \u001b[0mprint\u001b[0m\u001b[1;33m(\u001b[0m\u001b[0mclists\u001b[0m\u001b[1;33m[\u001b[0m\u001b[0mindex\u001b[0m\u001b[1;33m]\u001b[0m\u001b[1;33m)\u001b[0m\u001b[1;33m\u001b[0m\u001b[1;33m\u001b[0m\u001b[0m\n\u001b[0;32m      2\u001b[0m \u001b[1;33m(\u001b[0m\u001b[0mclists\u001b[0m\u001b[1;33m[\u001b[0m\u001b[0mindex\u001b[0m\u001b[1;33m]\u001b[0m\u001b[1;33m)\u001b[0m \u001b[1;33m=\u001b[0m \u001b[1;36m1\u001b[0m\u001b[1;33m\u001b[0m\u001b[1;33m\u001b[0m\u001b[0m\n\u001b[1;32m----> 3\u001b[1;33m \u001b[0mprint\u001b[0m\u001b[1;33m(\u001b[0m\u001b[0mkhan\u001b[0m\u001b[1;33m)\u001b[0m\u001b[1;33m\u001b[0m\u001b[1;33m\u001b[0m\u001b[0m\n\u001b[0m\u001b[0;32m      4\u001b[0m \u001b[1;31m#print(vdata['Voter ID'])\u001b[0m\u001b[1;33m\u001b[0m\u001b[1;33m\u001b[0m\u001b[1;33m\u001b[0m\u001b[0m\n",
      "\u001b[1;31mNameError\u001b[0m: name 'khan' is not defined"
     ]
    }
   ],
   "source": [
    "print(clists[index])\n",
    "(clists[index])& = 1\n",
    "print(khan)\n",
    "#print(vdata['Voter ID'])"
   ]
  },
  {
   "cell_type": "code",
   "execution_count": null,
   "metadata": {},
   "outputs": [],
   "source": [
    "print(clists[index])"
   ]
  },
  {
   "cell_type": "code",
   "execution_count": null,
   "metadata": {},
   "outputs": [],
   "source": [
    "# List indexing\n",
    "\n",
    "my_list = ['p', 'r', 'o', 'b', 'e']\n",
    "\n",
    "# Output: p\n",
    "#print(my_list[0])\n",
    "\n",
    "# Output: o\n",
    "#print(my_list[2])\n",
    "\n",
    "# Output: e\n",
    "#print(my_list[4])\n",
    "\n",
    "# Nested List\n",
    "n_list = [\"Happy\", [2, 0, 1, 5]]\n",
    "\n",
    "# Nested indexing\n",
    "print(n_list[0][1])\n",
    "\n",
    "print(n_list[1][2])"
   ]
  },
  {
   "cell_type": "code",
   "execution_count": null,
   "metadata": {},
   "outputs": [],
   "source": [
    "a = [1,2,3]\n",
    "print(id(x) for x in a)\n",
    "print(a)\n",
    "    \n",
    "for el in a:\n",
    "    el += 5   # creates new integer, but only temp name references it\n",
    "\n",
    "print [id(x) for x in a] # references are not changed.\n",
    "print a"
   ]
  },
  {
   "cell_type": "code",
   "execution_count": null,
   "metadata": {},
   "outputs": [],
   "source": [
    "thisdict = {\n",
    "  \"brand\": \"Ford\",\n",
    "  \"electric\": False,\n",
    "  \"year\": 1964,\n",
    "  \"colors\": [\"red\", \"white\", \"blue\"]\n",
    "}\n",
    "thisdict"
   ]
  },
  {
   "cell_type": "code",
   "execution_count": null,
   "metadata": {},
   "outputs": [],
   "source": []
  }
 ],
 "metadata": {
  "kernelspec": {
   "display_name": "Python 3",
   "language": "python",
   "name": "python3"
  },
  "language_info": {
   "codemirror_mode": {
    "name": "ipython",
    "version": 3
   },
   "file_extension": ".py",
   "mimetype": "text/x-python",
   "name": "python",
   "nbconvert_exporter": "python",
   "pygments_lexer": "ipython3",
   "version": "3.8.5"
  }
 },
 "nbformat": 4,
 "nbformat_minor": 4
}
