{
 "cells": [
  {
   "cell_type": "code",
   "execution_count": null,
   "metadata": {},
   "outputs": [],
   "source": [
    "import os, csv"
   ]
  },
  {
   "cell_type": "code",
   "execution_count": null,
   "metadata": {},
   "outputs": [],
   "source": [
    "#csvpath = os.path.join('Resources', 'election_data.csv')\n",
    "csvpath = 'election_data.csv'"
   ]
  },
  {
   "cell_type": "code",
   "execution_count": null,
   "metadata": {},
   "outputs": [],
   "source": [
    "with open(csvpath, 'r') as vdata:\n",
    "    # Declare variables\n",
    "    tvotes = 0\n",
    "    #vdata = []\n",
    "    clist = []\n",
    "    kvotes = 0\n",
    "    cvotes = 0\n",
    "    lvotes = 0\n",
    "    ovotes = 0\n",
    "    # Split  data at commas\n",
    "    for r in csv.DictReader(vdata):  #, delimiter=',')\n",
    "        tvotes +=1\n",
    "        #print(vdata)\n",
    "    print(tvotes)    \n",
    "    \n",
    "    #cdic = {}\n",
    "    # Loop through the data    \n",
    "    #next(csvreader)\n",
    "    #for r in csvreader:\n",
    "    #    tvotes +=1\n",
    "    #    vdata.append(r)\n",
    "    #clist = [Candidate for Candidate in vdata]\n",
    "    #cdic = {}\n",
    "             #for c in vdata:\n",
    "    #    if c[2] not in clist:\n",
    "    #        clist.append(c)\n",
    "    #print(vdata[2])\n",
    "    #print(clist)\n",
    "    #Display election results to terminal\n",
    "    print('Election Results' + '\\n' + '--------------------------------')\n",
    "    print('Total Votes: ' + str(tvotes))\n",
    "    print('--------------------------------')\n",
    "    #print(clist)"
   ]
  },
  {
   "cell_type": "code",
   "execution_count": null,
   "metadata": {},
   "outputs": [],
   "source": [
    "print(csvspath)"
   ]
  },
  {
   "cell_type": "code",
   "execution_count": null,
   "metadata": {},
   "outputs": [],
   "source": [
    "with open(cvspath,'r') as data: \n",
    "   for line in csv.DicReader(data): \n",
    "        tv =+1\n",
    "        print(tv)\n",
    "        #print(line)"
   ]
  },
  {
   "cell_type": "code",
   "execution_count": null,
   "metadata": {},
   "outputs": [],
   "source": []
  }
 ],
 "metadata": {
  "kernelspec": {
   "display_name": "Python 3",
   "language": "python",
   "name": "python3"
  },
  "language_info": {
   "codemirror_mode": {
    "name": "ipython",
    "version": 3
   },
   "file_extension": ".py",
   "mimetype": "text/x-python",
   "name": "python",
   "nbconvert_exporter": "python",
   "pygments_lexer": "ipython3",
   "version": "3.8.5"
  }
 },
 "nbformat": 4,
 "nbformat_minor": 4
}
