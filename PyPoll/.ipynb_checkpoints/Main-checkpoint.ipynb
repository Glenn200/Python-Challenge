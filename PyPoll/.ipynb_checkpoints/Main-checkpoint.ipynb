{
 "cells": [
  {
   "cell_type": "code",
   "execution_count": 1,
   "metadata": {},
   "outputs": [],
   "source": [
    "import os, csv"
   ]
  },
  {
   "cell_type": "code",
   "execution_count": 2,
   "metadata": {},
   "outputs": [],
   "source": [
    "#csvpath = os.path.join('Resources', 'election_data.csv')\n",
    "csvpath = 'election_data.csv'"
   ]
  },
  {
   "cell_type": "code",
   "execution_count": 31,
   "metadata": {},
   "outputs": [
    {
     "ename": "SyntaxError",
     "evalue": "invalid syntax (<ipython-input-31-57d8e3d1a844>, line 15)",
     "output_type": "error",
     "traceback": [
      "\u001b[1;36m  File \u001b[1;32m\"<ipython-input-31-57d8e3d1a844>\"\u001b[1;36m, line \u001b[1;32m15\u001b[0m\n\u001b[1;33m    if vdata(\"Candidate\").value() == cr\u001b[0m\n\u001b[1;37m                                       ^\u001b[0m\n\u001b[1;31mSyntaxError\u001b[0m\u001b[1;31m:\u001b[0m invalid syntax\n"
     ]
    }
   ],
   "source": [
    "# Open file\n",
    "reader = csv.DictReader(open(csvpath))\n",
    "# Load data in dictionary\n",
    "# Declare variables\n",
    "vdata = {}\n",
    "tvotes = 0\n",
    "clist = []\n",
    "# Load data in dictionary\n",
    "for row in reader:\n",
    "    tvotes =+1\n",
    "    for column, value in row.items():\n",
    "        vdata.setdefault(column, []).append(value)\n",
    "        # Unique List of Candidates\n",
    "        for cr in clist:\n",
    "            if vdata(\"Candidate\").value() == cr\n",
    "            # add vote\n",
    "            else\n",
    "            #add to clist and add vote\n",
    "            clist.append(cr)\n",
    "            \n",
    "    #total votes\n",
    "    \n",
    "      \n",
    "    # total vote for each candidate\n",
    "    \n",
    "    # percentage of votes reviced vs  total votes\n",
    "    \n",
    "#print(vdata)\n",
    "# Declare variables\n",
    "    #tvotes = 0\n",
    "    #vdata = []\n",
    "    #clist = []\n",
    "    #kvotes = 0\n",
    "    #cvotes = 0\n",
    "    #lvotes = 0\n",
    "    #ovotes = 0\n",
    "\n",
    "    #print(vdata[2])\n",
    "    #print(clist)\n",
    "    #Display election results to terminal\n",
    "    #print('Election Results' + '\\n' + '--------------------------------')\n",
    "    #print('Total Votes: ' + str(tvotes))\n",
    "    #print('--------------------------------')\n",
    "    #print(clist)"
   ]
  },
  {
   "cell_type": "code",
   "execution_count": null,
   "metadata": {},
   "outputs": [],
   "source": [
    "#len(vdata)\n",
    "#print(vdata[0])\n",
    "#vdata[\"Candidate\"].item().count()\n"
   ]
  },
  {
   "cell_type": "code",
   "execution_count": null,
   "metadata": {},
   "outputs": [],
   "source": [
    "#import csv\n",
    "reader = csv.DictReader(open(csvpath))\n",
    "\n",
    "result = {}\n",
    "for row in reader:\n",
    "    for column, value in row.items():  # consider .iteritems() for Python 2\n",
    "        result.setdefault(column, []).append(value)\n",
    "        \n",
    "print(result)"
   ]
  },
  {
   "cell_type": "code",
   "execution_count": null,
   "metadata": {},
   "outputs": [],
   "source": [
    "result.keys()"
   ]
  },
  {
   "cell_type": "code",
   "execution_count": null,
   "metadata": {},
   "outputs": [],
   "source": [
    "result[\"Candidate\"]"
   ]
  },
  {
   "cell_type": "code",
   "execution_count": 26,
   "metadata": {},
   "outputs": [
    {
     "name": "stdout",
     "output_type": "stream",
     "text": [
      "dict_values(['Ford', 'Mustang', 1964])\n"
     ]
    }
   ],
   "source": [
    "car = {\n",
    "  \"brand\": \"Ford\",\n",
    "  \"model\": \"Mustang\",\n",
    "  \"year\": 1964\n",
    "}\n",
    "\n",
    "x = car.values()\n",
    "\n",
    "print(x)"
   ]
  },
  {
   "cell_type": "code",
   "execution_count": null,
   "metadata": {},
   "outputs": [],
   "source": [
    "print(vdata['Candidate'])"
   ]
  },
  {
   "cell_type": "code",
   "execution_count": null,
   "metadata": {},
   "outputs": [],
   "source": []
  }
 ],
 "metadata": {
  "kernelspec": {
   "display_name": "Python 3",
   "language": "python",
   "name": "python3"
  },
  "language_info": {
   "codemirror_mode": {
    "name": "ipython",
    "version": 3
   },
   "file_extension": ".py",
   "mimetype": "text/x-python",
   "name": "python",
   "nbconvert_exporter": "python",
   "pygments_lexer": "ipython3",
   "version": "3.8.5"
  }
 },
 "nbformat": 4,
 "nbformat_minor": 4
}
