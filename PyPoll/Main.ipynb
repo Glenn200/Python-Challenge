{
 "cells": [
  {
   "cell_type": "code",
   "execution_count": 1,
   "metadata": {},
   "outputs": [],
   "source": [
    "import os, csv"
   ]
  },
  {
   "cell_type": "code",
   "execution_count": 2,
   "metadata": {},
   "outputs": [],
   "source": [
    "#csvpath = os.path.join('Resources', 'election_data.csv')\n",
    "csvpath = 'election_data.csv'"
   ]
  },
  {
   "cell_type": "code",
   "execution_count": null,
   "metadata": {},
   "outputs": [],
   "source": [
    "with open(csvpath, 'r') as vdata:\n",
    "    # Declare variables\n",
    "    tvotes = 0\n",
    "    #vdata = []\n",
    "    clist = []\n",
    "    kvotes = 0\n",
    "    cvotes = 0\n",
    "    lvotes = 0\n",
    "    ovotes = 0\n",
    "    # Split  data at commas\n",
    "    for r in csv.DictReader(vdata, encoding = 'Latin1'):  #, delimiter=',')\n",
    "        tvotes +=1\n",
    "        #print(vdata)\n",
    "    print(tvotes)    \n",
    "    \n",
    "    #cdic = {}\n",
    "    # Loop through the data    \n",
    "    #next(csvreader)\n",
    "    #for r in csvreader:\n",
    "    #    tvotes +=1\n",
    "    #    vdata.append(r)\n",
    "    #clist = [Candidate for Candidate in vdata]\n",
    "    #cdic = {}\n",
    "             #for c in vdata:\n",
    "    #    if c[2] not in clist:\n",
    "    #        clist.append(c)\n",
    "    #print(vdata[2])\n",
    "    #print(clist)\n",
    "    #Display election results to terminal\n",
    "    print('Election Results' + '\\n' + '--------------------------------')\n",
    "    print('Total Votes: ' + str(tvotes))\n",
    "    print('--------------------------------')\n",
    "    #print(clist)"
   ]
  },
  {
   "cell_type": "code",
   "execution_count": 3,
   "metadata": {},
   "outputs": [
    {
     "ename": "NameError",
     "evalue": "name 'vdata' is not defined",
     "output_type": "error",
     "traceback": [
      "\u001b[1;31m---------------------------------------------------------------------------\u001b[0m",
      "\u001b[1;31mNameError\u001b[0m                                 Traceback (most recent call last)",
      "\u001b[1;32m<ipython-input-3-de0ea7f41b45>\u001b[0m in \u001b[0;36m<module>\u001b[1;34m\u001b[0m\n\u001b[1;32m----> 1\u001b[1;33m \u001b[0mprint\u001b[0m\u001b[1;33m(\u001b[0m\u001b[0mvdata\u001b[0m\u001b[1;33m)\u001b[0m\u001b[1;33m\u001b[0m\u001b[1;33m\u001b[0m\u001b[0m\n\u001b[0m",
      "\u001b[1;31mNameError\u001b[0m: name 'vdata' is not defined"
     ]
    }
   ],
   "source": [
    "print(vdata)"
   ]
  },
  {
   "cell_type": "code",
   "execution_count": 16,
   "metadata": {},
   "outputs": [
    {
     "name": "stdout",
     "output_type": "stream",
     "text": [
      "1\n",
      "{'Voter ID': '10124861', 'County': 'Marsh', 'Candidate': 'Khan'}\n"
     ]
    }
   ],
   "source": [
    "with open(csvpath,'r') as vdata: \n",
    "    for r in csv.DictReader(vdata): \n",
    "        tv =+1\n",
    "    print(tv)\n",
    "    print(line)\n",
    "        #print(line)"
   ]
  },
  {
   "cell_type": "code",
   "execution_count": null,
   "metadata": {},
   "outputs": [],
   "source": []
  }
 ],
 "metadata": {
  "kernelspec": {
   "display_name": "Python 3",
   "language": "python",
   "name": "python3"
  },
  "language_info": {
   "codemirror_mode": {
    "name": "ipython",
    "version": 3
   },
   "file_extension": ".py",
   "mimetype": "text/x-python",
   "name": "python",
   "nbconvert_exporter": "python",
   "pygments_lexer": "ipython3",
   "version": "3.8.5"
  }
 },
 "nbformat": 4,
 "nbformat_minor": 4
}
